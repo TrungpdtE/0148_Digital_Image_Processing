{
  "nbformat": 4,
  "nbformat_minor": 0,
  "metadata": {
    "colab": {
      "name": ".tmp.colab.ipynb",
      "provenance": [],
      "collapsed_sections": []
    },
    "kernelspec": {
      "name": "python3",
      "display_name": "Python 3"
    },
    "language_info": {
      "name": "python"
    },
    "accelerator": "GPU"
  },
  "cells": [
    {
      "cell_type": "code",
      "metadata": {
        "id": "Y1ywoqwbK6_c"
      },
      "source": [
        "import numpy as np"
      ],
      "execution_count": 5,
      "outputs": []
    },
    {
      "cell_type": "code",
      "metadata": {
        "colab": {
          "base_uri": "https://localhost:8080/"
        },
        "id": "lE-mbyOuK95s",
        "outputId": "c092f313-4db5-4e46-ad34-e55758251017"
      },
      "source": [
        "a = np.array([1, 2, 3], dtype=np.float)\n",
        "b = np.array([[1., 2.], [3., 4.]])\n",
        "print(a.shape, b.shape)\n",
        "print(a)\n",
        "print(b)"
      ],
      "execution_count": 7,
      "outputs": [
        {
          "output_type": "stream",
          "name": "stdout",
          "text": [
            "(3,) (2, 2)\n",
            "[1. 2. 3.]\n",
            "[[1. 2.]\n",
            " [3. 4.]]\n"
          ]
        }
      ]
    },
    {
      "cell_type": "code",
      "metadata": {
        "colab": {
          "base_uri": "https://localhost:8080/"
        },
        "id": "T_cDTxh4LSc2",
        "outputId": "b418a301-2879-4d4e-fc83-4378b91f45f1"
      },
      "source": [
        "a = np.zeros([2, 2])\n",
        "b = np.ones([3, 2])\n",
        "c = np.full([3, 3], 9)\n",
        "d = np.eye(5)\t\t\t\t\t\t        # ma trận đơn vị\n",
        "e = np.random.random([3, 3])\t\t# random 0..1\n",
        "\n",
        "for it in [a, b, c, d, e]:\n",
        "  print(it)"
      ],
      "execution_count": 10,
      "outputs": [
        {
          "output_type": "stream",
          "name": "stdout",
          "text": [
            "[[0. 0.]\n",
            " [0. 0.]]\n",
            "[[1. 1.]\n",
            " [1. 1.]\n",
            " [1. 1.]]\n",
            "[[9 9 9]\n",
            " [9 9 9]\n",
            " [9 9 9]]\n",
            "[[1. 0. 0. 0. 0.]\n",
            " [0. 1. 0. 0. 0.]\n",
            " [0. 0. 1. 0. 0.]\n",
            " [0. 0. 0. 1. 0.]\n",
            " [0. 0. 0. 0. 1.]]\n",
            "[[0.37378826 0.9123733  0.09675905]\n",
            " [0.26390017 0.40626014 0.6969442 ]\n",
            " [0.63470928 0.30039704 0.13151797]]\n"
          ]
        }
      ]
    },
    {
      "cell_type": "code",
      "metadata": {
        "colab": {
          "base_uri": "https://localhost:8080/"
        },
        "id": "VEVUdH55LvF0",
        "outputId": "1a175c67-5d49-4fc9-a123-fd9a689806be"
      },
      "source": [
        "print(e[-1, -1])"
      ],
      "execution_count": 11,
      "outputs": [
        {
          "output_type": "stream",
          "name": "stdout",
          "text": [
            "0.13151797133800425\n"
          ]
        }
      ]
    },
    {
      "cell_type": "code",
      "metadata": {
        "colab": {
          "base_uri": "https://localhost:8080/"
        },
        "id": "5r8LMQHvMLoN",
        "outputId": "e9e117a8-1d5e-468a-c26c-8ec255be5632"
      },
      "source": [
        "f = e[:2, 1:]\n",
        "print(f)"
      ],
      "execution_count": 12,
      "outputs": [
        {
          "output_type": "stream",
          "name": "stdout",
          "text": [
            "[[0.9123733  0.09675905]\n",
            " [0.40626014 0.6969442 ]]\n"
          ]
        }
      ]
    },
    {
      "cell_type": "code",
      "metadata": {
        "colab": {
          "base_uri": "https://localhost:8080/"
        },
        "id": "SxYCikc7ML6A",
        "outputId": "8c3ef2f8-60be-4da3-94a0-7c52f943ec35"
      },
      "source": [
        "a = np.arange(12).reshape([3, 4])\n",
        "print(a)"
      ],
      "execution_count": 14,
      "outputs": [
        {
          "output_type": "stream",
          "name": "stdout",
          "text": [
            "[[ 0  1  2  3]\n",
            " [ 4  5  6  7]\n",
            " [ 8  9 10 11]]\n"
          ]
        }
      ]
    },
    {
      "cell_type": "code",
      "metadata": {
        "colab": {
          "base_uri": "https://localhost:8080/"
        },
        "id": "P_MXOxzpNJq-",
        "outputId": "d89d7f67-c92a-4ae1-ca89-f36ca1ae793a"
      },
      "source": [
        "print(a[[0, 1, 1], [0, 1, 3]])"
      ],
      "execution_count": 15,
      "outputs": [
        {
          "output_type": "stream",
          "name": "stdout",
          "text": [
            "[0 5 7]\n"
          ]
        }
      ]
    },
    {
      "cell_type": "code",
      "metadata": {
        "colab": {
          "base_uri": "https://localhost:8080/"
        },
        "id": "R_Er5csTNmSW",
        "outputId": "2ff422f8-eda7-4afc-ee2d-021995cd32f6"
      },
      "source": [
        "mask = a > 5\n",
        "print(mask)\n",
        "print(a[mask])"
      ],
      "execution_count": 19,
      "outputs": [
        {
          "output_type": "stream",
          "name": "stdout",
          "text": [
            "[[False False False False]\n",
            " [False False  True  True]\n",
            " [ True  True  True  True]]\n",
            "[ 6  7  8  9 10 11]\n"
          ]
        }
      ]
    },
    {
      "cell_type": "code",
      "metadata": {
        "colab": {
          "base_uri": "https://localhost:8080/"
        },
        "id": "7uM3ETOtOVK3",
        "outputId": "394d4185-71ba-411c-a8e2-128c34a3a9e9"
      },
      "source": [
        "print(a)\n",
        "b = np.ones(a.shape)\n",
        "print(b)\n",
        "print(a.shape, b.shape)"
      ],
      "execution_count": 22,
      "outputs": [
        {
          "output_type": "stream",
          "name": "stdout",
          "text": [
            "[[ 0  1  2  3]\n",
            " [ 4  5  6  7]\n",
            " [ 8  9 10 11]]\n",
            "[[1. 1. 1. 1.]\n",
            " [1. 1. 1. 1.]\n",
            " [1. 1. 1. 1.]]\n",
            "(3, 4) (3, 4)\n"
          ]
        }
      ]
    },
    {
      "cell_type": "code",
      "metadata": {
        "colab": {
          "base_uri": "https://localhost:8080/"
        },
        "id": "tfYk7QMnOoTy",
        "outputId": "8eaeda51-f64c-4fc5-eab4-cdb677b0e703"
      },
      "source": [
        "print(a+b)\n",
        "print(a-b)\n",
        "print(a*b)\n",
        "print(a/b)"
      ],
      "execution_count": 23,
      "outputs": [
        {
          "output_type": "stream",
          "name": "stdout",
          "text": [
            "[[ 1.  2.  3.  4.]\n",
            " [ 5.  6.  7.  8.]\n",
            " [ 9. 10. 11. 12.]]\n",
            "[[-1.  0.  1.  2.]\n",
            " [ 3.  4.  5.  6.]\n",
            " [ 7.  8.  9. 10.]]\n",
            "[[ 0.  1.  2.  3.]\n",
            " [ 4.  5.  6.  7.]\n",
            " [ 8.  9. 10. 11.]]\n",
            "[[ 0.  1.  2.  3.]\n",
            " [ 4.  5.  6.  7.]\n",
            " [ 8.  9. 10. 11.]]\n"
          ]
        }
      ]
    },
    {
      "cell_type": "code",
      "metadata": {
        "colab": {
          "base_uri": "https://localhost:8080/"
        },
        "id": "UYIHCKB5PL-B",
        "outputId": "1d23ff57-0969-4ea2-a5b7-60285a65eb95"
      },
      "source": [
        "print(a.shape, b.shape)\n",
        "product = a.dot(b.T)\n",
        "print(product.shape)\n",
        "print(product)"
      ],
      "execution_count": 25,
      "outputs": [
        {
          "output_type": "stream",
          "name": "stdout",
          "text": [
            "(3, 4) (3, 4)\n",
            "(3, 3)\n",
            "[[ 6.  6.  6.]\n",
            " [22. 22. 22.]\n",
            " [38. 38. 38.]]\n"
          ]
        }
      ]
    },
    {
      "cell_type": "code",
      "metadata": {
        "colab": {
          "base_uri": "https://localhost:8080/"
        },
        "id": "V3iH47uGPiG2",
        "outputId": "f6d416b3-1ced-4f7a-8fd0-bcd18f3dd228"
      },
      "source": [
        "print(a)\n",
        "print(np.argmin(a, axis=0))"
      ],
      "execution_count": 36,
      "outputs": [
        {
          "output_type": "stream",
          "name": "stdout",
          "text": [
            "[[ 0  1  2  3]\n",
            " [ 4  5  6  7]\n",
            " [ 8  9 10 11]]\n",
            "[0 0 0 0]\n"
          ]
        }
      ]
    },
    {
      "cell_type": "code",
      "metadata": {
        "colab": {
          "base_uri": "https://localhost:8080/"
        },
        "id": "nU2CF9eLQrg8",
        "outputId": "84f11540-3586-4d65-b8c2-3b2a5f647996"
      },
      "source": [
        "print(a)\n",
        "print(a.T)"
      ],
      "execution_count": 38,
      "outputs": [
        {
          "output_type": "stream",
          "name": "stdout",
          "text": [
            "[[ 0  1  2  3]\n",
            " [ 4  5  6  7]\n",
            " [ 8  9 10 11]]\n",
            "[[ 0  4  8]\n",
            " [ 1  5  9]\n",
            " [ 2  6 10]\n",
            " [ 3  7 11]]\n"
          ]
        }
      ]
    },
    {
      "cell_type": "code",
      "metadata": {
        "colab": {
          "base_uri": "https://localhost:8080/"
        },
        "id": "Lq7zguv9RAbZ",
        "outputId": "b3fde000-9dba-4881-f67a-33c88527b9e8"
      },
      "source": [
        "x = np.array([[0, 1], [1, 0]])\n",
        "print(x)\n",
        "y = np.tile(x, [2, 3])\n",
        "print(y)"
      ],
      "execution_count": 41,
      "outputs": [
        {
          "output_type": "stream",
          "name": "stdout",
          "text": [
            "[[0 1]\n",
            " [1 0]]\n",
            "[[0 1 0 1 0 1]\n",
            " [1 0 1 0 1 0]\n",
            " [0 1 0 1 0 1]\n",
            " [1 0 1 0 1 0]]\n"
          ]
        }
      ]
    },
    {
      "cell_type": "code",
      "metadata": {
        "colab": {
          "base_uri": "https://localhost:8080/"
        },
        "id": "2FO76EUeSKN-",
        "outputId": "533572c9-0bad-4321-a9c5-956049070c84"
      },
      "source": [
        "import matplotlib.pyplot as plt\n",
        "import numpy as np\n",
        "\n",
        "t = np.arange(0, np.pi*4, np.pi/12)\n",
        "s = np.cos(t)\t\t# element-wise\n",
        "print(t)\n",
        "print(s)"
      ],
      "execution_count": 44,
      "outputs": [
        {
          "output_type": "stream",
          "name": "stdout",
          "text": [
            "[ 0.          0.26179939  0.52359878  0.78539816  1.04719755  1.30899694\n",
            "  1.57079633  1.83259571  2.0943951   2.35619449  2.61799388  2.87979327\n",
            "  3.14159265  3.40339204  3.66519143  3.92699082  4.1887902   4.45058959\n",
            "  4.71238898  4.97418837  5.23598776  5.49778714  5.75958653  6.02138592\n",
            "  6.28318531  6.54498469  6.80678408  7.06858347  7.33038286  7.59218225\n",
            "  7.85398163  8.11578102  8.37758041  8.6393798   8.90117919  9.16297857\n",
            "  9.42477796  9.68657735  9.94837674 10.21017612 10.47197551 10.7337749\n",
            " 10.99557429 11.25737368 11.51917306 11.78097245 12.04277184 12.30457123]\n",
            "[ 1.00000000e+00  9.65925826e-01  8.66025404e-01  7.07106781e-01\n",
            "  5.00000000e-01  2.58819045e-01  6.12323400e-17 -2.58819045e-01\n",
            " -5.00000000e-01 -7.07106781e-01 -8.66025404e-01 -9.65925826e-01\n",
            " -1.00000000e+00 -9.65925826e-01 -8.66025404e-01 -7.07106781e-01\n",
            " -5.00000000e-01 -2.58819045e-01 -1.83697020e-16  2.58819045e-01\n",
            "  5.00000000e-01  7.07106781e-01  8.66025404e-01  9.65925826e-01\n",
            "  1.00000000e+00  9.65925826e-01  8.66025404e-01  7.07106781e-01\n",
            "  5.00000000e-01  2.58819045e-01  1.19434012e-15 -2.58819045e-01\n",
            " -5.00000000e-01 -7.07106781e-01 -8.66025404e-01 -9.65925826e-01\n",
            " -1.00000000e+00 -9.65925826e-01 -8.66025404e-01 -7.07106781e-01\n",
            " -5.00000000e-01 -2.58819045e-01 -4.28626380e-16  2.58819045e-01\n",
            "  5.00000000e-01  7.07106781e-01  8.66025404e-01  9.65925826e-01]\n"
          ]
        }
      ]
    },
    {
      "cell_type": "code",
      "metadata": {
        "colab": {
          "base_uri": "https://localhost:8080/",
          "height": 265
        },
        "id": "hr4pNKuwSvaJ",
        "outputId": "b2e22dd8-253e-4ae6-d214-e1c101c8ea06"
      },
      "source": [
        "plt.plot(t, s)\n",
        "plt.plot(t, s+1, 'r^')\n",
        "plt.plot(t, s-1, 'go')\n",
        "plt.show()\n"
      ],
      "execution_count": 45,
      "outputs": [
        {
          "output_type": "display_data",
          "data": {
            "image/png": "[encoded data removed]",
            "text/plain": [
              "<Figure size 432x288 with 1 Axes>"
            ]
          },
          "metadata": {
            "needs_background": "light"
          }
        }
      ]
    },
    {
      "cell_type": "code",
      "metadata": {
        "colab": {
          "base_uri": "https://localhost:8080/",
          "height": 295
        },
        "id": "w9jqYpa4TjXc",
        "outputId": "b52196a6-7475-44a6-a4e3-315f6e0927d5"
      },
      "source": [
        "plt.plot(t, s)\n",
        "plt.plot(t, s+1, 'r^')\n",
        "plt.plot(t, s-1, 'go')\n",
        "plt.title('ví dụ')\n",
        "plt.xlabel('t (rad)')\n",
        "plt.ylabel('s')\n",
        "plt.xlim(0, 3)\n",
        "plt.ylim(-3, 3)\n",
        "plt.text(2.5, -0.75, r'$s=cos(t)$')\n",
        "plt.show()\n"
      ],
      "execution_count": 47,
      "outputs": [
        {
          "output_type": "display_data",
          "data": {
            "image/png": "[encoded data removed]",
            "text/plain": [
              "<Figure size 432x288 with 1 Axes>"
            ]
          },
          "metadata": {
            "needs_background": "light"
          }
        }
      ]
    },
    {
      "cell_type": "code",
      "metadata": {
        "colab": {
          "base_uri": "https://localhost:8080/",
          "height": 265
        },
        "id": "5tuzJ1efUIaX",
        "outputId": "52a8577f-a147-4147-d55a-7360fb26fa24"
      },
      "source": [
        "plt.plot(t, s+1)\n",
        "plt.show()\n"
      ],
      "execution_count": 50,
      "outputs": [
        {
          "output_type": "display_data",
          "data": {
            "image/png": "[encoded data removed]",
            "text/plain": [
              "<Figure size 432x288 with 1 Axes>"
            ]
          },
          "metadata": {
            "needs_background": "light"
          }
        }
      ]
    },
    {
      "cell_type": "code",
      "metadata": {
        "colab": {
          "base_uri": "https://localhost:8080/",
          "height": 265
        },
        "id": "k_TVTLRsUWS9",
        "outputId": "67814d41-4342-4a43-eaeb-17f2c18524eb"
      },
      "source": [
        "plt.bar([-1, 0, 1], [30, 45, 50])\n",
        "plt.xticks([-1, 0, 1], ['VN', 'JP', 'USA'])\n",
        "plt.yticks(range(0, 51, 10), ['a', 'b', 'c', 'd', 'e', 'f'])\n",
        "plt.show()\n"
      ],
      "execution_count": 56,
      "outputs": [
        {
          "output_type": "display_data",
          "data": {
            "image/png": "[encoded data removed]",
            "text/plain": [
              "<Figure size 432x288 with 1 Axes>"
            ]
          },
          "metadata": {
            "needs_background": "light"
          }
        }
      ]
    },
    {
      "cell_type": "code",
      "metadata": {
        "colab": {
          "base_uri": "https://localhost:8080/",
          "height": 248
        },
        "id": "y2mhrKfkVY_s",
        "outputId": "3fcc1979-4f5e-4b84-f1a3-88dbdc12b4ff"
      },
      "source": [
        "plt.pie([20, 30, 50],\n",
        "        labels=['A', 'B', 'C'],\n",
        "        startangle=90,\n",
        "        autopct='%02d%%')\n",
        "plt.show()\n"
      ],
      "execution_count": 57,
      "outputs": [
        {
          "output_type": "display_data",
          "data": {
            "image/png": "[encoded data removed]",
            "text/plain": [
              "<Figure size 432x288 with 1 Axes>"
            ]
          },
          "metadata": {}
        }
      ]
    },
    {
      "cell_type": "code",
      "metadata": {
        "colab": {
          "base_uri": "https://localhost:8080/",
          "height": 282
        },
        "id": "e3s9HFW3VxFZ",
        "outputId": "7bcc2bcc-fff5-4aca-abb0-e03615936e66"
      },
      "source": [
        "x = np.arange(4)\n",
        "y = x+np.arange(4)\n",
        "z = y+np.arange(4)\n",
        "\n",
        "print(x, y, z)\n",
        "\n",
        "plt.stackplot(x, y, z,\n",
        "     labels=['A', 'B', 'C'])\n",
        "plt.show()\n"
      ],
      "execution_count": 58,
      "outputs": [
        {
          "output_type": "stream",
          "name": "stdout",
          "text": [
            "[0 1 2 3] [0 2 4 6] [0 3 6 9]\n"
          ]
        },
        {
          "output_type": "display_data",
          "data": {
            "image/png": "[encoded data removed]",
            "text/plain": [
              "<Figure size 432x288 with 1 Axes>"
            ]
          },
          "metadata": {
            "needs_background": "light"
          }
        }
      ]
    },
    {
      "cell_type": "code",
      "metadata": {
        "colab": {
          "base_uri": "https://localhost:8080/",
          "height": 265
        },
        "id": "bz8Qmew6Wxh9",
        "outputId": "a7e14857-fae0-4f8a-fd0c-b96e9f0ec301"
      },
      "source": [
        "plt.subplot(121)\n",
        "plt.scatter(t, s, marker='o')\n",
        "\n",
        "plt.subplot(122)\n",
        "plt.plot(t, s)\n",
        "\n",
        "plt.show()\n"
      ],
      "execution_count": 61,
      "outputs": [
        {
          "output_type": "display_data",
          "data": {
            "image/png": "[encoded data removed]",
            "text/plain": [
              "<Figure size 432x288 with 2 Axes>"
            ]
          },
          "metadata": {
            "needs_background": "light"
          }
        }
      ]
    },
    {
      "cell_type": "markdown",
      "metadata": {
        "id": "HlN49GxOXuzB"
      },
      "source": [
        "Bài 1: Cho ma trận a nxn với các phần tử được random. Tìm ma trận b là ma trận a, sau khi nhân các phần tử lên 100 lần và lấy phần nguyên.\n",
        "VD: [[0.50  0.43],\n",
        "     [0.612 0.781]]\n",
        "\n",
        "    [[50   43],\n",
        "     [61   78]]"
      ]
    },
    {
      "cell_type": "code",
      "metadata": {
        "colab": {
          "base_uri": "https://localhost:8080/"
        },
        "id": "s3lxbI6AY70N",
        "outputId": "dd055933-1fba-4d03-ce99-5c7b8d990185"
      },
      "source": [
        "n = 3\n",
        "a = np.random.random([n, n])\n",
        "print(a)\n",
        "b = a*100\n",
        "print(b)\n",
        "b = np.floor(b)\n",
        "print(b)"
      ],
      "execution_count": 67,
      "outputs": [
        {
          "output_type": "stream",
          "name": "stdout",
          "text": [
            "[[0.32956193 0.92213513 0.51525755]\n",
            " [0.09932999 0.31430469 0.32824227]\n",
            " [0.65704389 0.73951046 0.32528831]]\n",
            "[[32.95619318 92.21351349 51.5257551 ]\n",
            " [ 9.93299919 31.43046902 32.82422685]\n",
            " [65.70438897 73.95104625 32.52883086]]\n",
            "[[32. 92. 51.]\n",
            " [ 9. 31. 32.]\n",
            " [65. 73. 32.]]\n"
          ]
        }
      ]
    },
    {
      "cell_type": "markdown",
      "metadata": {
        "id": "mKMOZR5NYVjd"
      },
      "source": [
        "Bài 2: Cho hàm số $ y = x^4 + 3x^2 - 100$\n",
        "Dùng matplotlib để vẽ đồ thị hàm y trong đoạn $[-100, 100]$"
      ]
    },
    {
      "cell_type": "code",
      "metadata": {
        "colab": {
          "base_uri": "https://localhost:8080/",
          "height": 965
        },
        "id": "yHd5ehizY86l",
        "outputId": "5f5090af-e3a6-46a0-ca15-b03895f77fd1"
      },
      "source": [
        "x = np.arange(-100, 101)\n",
        "print(x)\n",
        "y = x*x*x*x -100*x*x + 3\n",
        "print(y)\n",
        "plt.plot(x, y)\n",
        "plt.show()"
      ],
      "execution_count": 71,
      "outputs": [
        {
          "output_type": "stream",
          "name": "stdout",
          "text": [
            "[-100  -99  -98  -97  -96  -95  -94  -93  -92  -91  -90  -89  -88  -87\n",
            "  -86  -85  -84  -83  -82  -81  -80  -79  -78  -77  -76  -75  -74  -73\n",
            "  -72  -71  -70  -69  -68  -67  -66  -65  -64  -63  -62  -61  -60  -59\n",
            "  -58  -57  -56  -55  -54  -53  -52  -51  -50  -49  -48  -47  -46  -45\n",
            "  -44  -43  -42  -41  -40  -39  -38  -37  -36  -35  -34  -33  -32  -31\n",
            "  -30  -29  -28  -27  -26  -25  -24  -23  -22  -21  -20  -19  -18  -17\n",
            "  -16  -15  -14  -13  -12  -11  -10   -9   -8   -7   -6   -5   -4   -3\n",
            "   -2   -1    0    1    2    3    4    5    6    7    8    9   10   11\n",
            "   12   13   14   15   16   17   18   19   20   21   22   23   24   25\n",
            "   26   27   28   29   30   31   32   33   34   35   36   37   38   39\n",
            "   40   41   42   43   44   45   46   47   48   49   50   51   52   53\n",
            "   54   55   56   57   58   59   60   61   62   63   64   65   66   67\n",
            "   68   69   70   71   72   73   74   75   76   77   78   79   80   81\n",
            "   82   83   84   85   86   87   88   89   90   91   92   93   94   95\n",
            "   96   97   98   99  100]\n",
            "[99000003 95079504 91276419 87588384 84013059 80548128 77191299 73940304\n",
            " 70792899 67746864 64800003 61950144 59195139 56532864 53961219 51478128\n",
            " 49081539 46769424 44539779 42390624 40320003 38325984 36406659 34560144\n",
            " 32784579 31078128 29438979 27865344 26355459 24907584 23520003 22191024\n",
            " 20918979 19702224 18539139 17428128 16367619 15356064 14391939 13473744\n",
            " 12600003 11769264 10980099 10231104  9520899  8848128  8211459  7609584\n",
            "  7041219  6505104  6000003  5524704  5078019  4658784  4265859  3898128\n",
            "  3554499  3233904  2935299  2657664  2400003  2161344  1940739  1737264\n",
            "  1550019  1378128  1220739  1077024   946179   827424   720003   623184\n",
            "   536259   458544   389379   328128   274179   226944   185859   150384\n",
            "   120003    94224    72579    54624    39939    28128    18819    11664\n",
            "     6339     2544        3    -1536    -2301    -2496    -2301    -1872\n",
            "    -1341     -816     -381      -96        3      -96     -381     -816\n",
            "    -1341    -1872    -2301    -2496    -2301    -1536        3     2544\n",
            "     6339    11664    18819    28128    39939    54624    72579    94224\n",
            "   120003   150384   185859   226944   274179   328128   389379   458544\n",
            "   536259   623184   720003   827424   946179  1077024  1220739  1378128\n",
            "  1550019  1737264  1940739  2161344  2400003  2657664  2935299  3233904\n",
            "  3554499  3898128  4265859  4658784  5078019  5524704  6000003  6505104\n",
            "  7041219  7609584  8211459  8848128  9520899 10231104 10980099 11769264\n",
            " 12600003 13473744 14391939 15356064 16367619 17428128 18539139 19702224\n",
            " 20918979 22191024 23520003 24907584 26355459 27865344 29438979 31078128\n",
            " 32784579 34560144 36406659 38325984 40320003 42390624 44539779 46769424\n",
            " 49081539 51478128 53961219 56532864 59195139 61950144 64800003 67746864\n",
            " 70792899 73940304 77191299 80548128 84013059 87588384 91276419 95079504\n",
            " 99000003]\n"
          ]
        },
        {
          "output_type": "display_data",
          "data": {
            "image/png": "[encoded data removed]",
            "text/plain": [
              "<Figure size 432x288 with 1 Axes>"
            ]
          },
          "metadata": {
            "needs_background": "light"
          }
        }
      ]
    },
    {
      "cell_type": "markdown",
      "metadata": {
        "id": "qWU8PR-KY-2i"
      },
      "source": [
        "Bài 3: Cho mảng số nguyên y có n phần tử từ 0 -> 9. Tạo ra ma trận y_ nx10, mỗi dòng là một vector toàn 0, riêng phần tử ở vị trí y[i] bằng 1.\n",
        "\n",
        "VD: \n",
        "```\n",
        "    y = [1, 2, 3]\n",
        "  \n",
        "    y_ = [[0, 1, 0, 0, 0, 0, 0, 0, 0, 0],\n",
        "          [0, 0, 1, 0, 0, 0, 0, 0, 0, 0],\n",
        "          [0, 0, 0, 1, 0, 0, 0, 0, 0, 0]]\n",
        "```"
      ]
    },
    {
      "cell_type": "code",
      "metadata": {
        "colab": {
          "base_uri": "https://localhost:8080/"
        },
        "id": "-1Z5aSpZY-Eo",
        "outputId": "3998031e-ab2a-4c33-d503-9a2b28660302"
      },
      "source": [
        "n = 10\n",
        "y = np.random.randint(0, 10, n)\n",
        "print(y)\n",
        "\n",
        "y_ = np.zeros([n, 10])\n",
        "ii = range(n)\n",
        "jj = y\n",
        "y_[ii, jj] = 1\n",
        "print(y_)"
      ],
      "execution_count": 75,
      "outputs": [
        {
          "output_type": "stream",
          "name": "stdout",
          "text": [
            "[3 5 0 3 3 3 5 8 7 6]\n",
            "[[0. 0. 0. 1. 0. 0. 0. 0. 0. 0.]\n",
            " [0. 0. 0. 0. 0. 1. 0. 0. 0. 0.]\n",
            " [1. 0. 0. 0. 0. 0. 0. 0. 0. 0.]\n",
            " [0. 0. 0. 1. 0. 0. 0. 0. 0. 0.]\n",
            " [0. 0. 0. 1. 0. 0. 0. 0. 0. 0.]\n",
            " [0. 0. 0. 1. 0. 0. 0. 0. 0. 0.]\n",
            " [0. 0. 0. 0. 0. 1. 0. 0. 0. 0.]\n",
            " [0. 0. 0. 0. 0. 0. 0. 0. 1. 0.]\n",
            " [0. 0. 0. 0. 0. 0. 0. 1. 0. 0.]\n",
            " [0. 0. 0. 0. 0. 0. 1. 0. 0. 0.]]\n"
          ]
        }
      ]
    }
  ]
}